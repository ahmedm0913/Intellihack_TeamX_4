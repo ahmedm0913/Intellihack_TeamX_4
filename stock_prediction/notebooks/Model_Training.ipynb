{
 "cells": [
  {
   "cell_type": "code",
   "execution_count": 1,
   "id": "3a33cf4c",
   "metadata": {},
   "outputs": [],
   "source": [
    "import pandas as pd\n",
    "from sklearn.model_selection import train_test_split\n",
    "from sklearn.metrics import mean_squared_error\n",
    "import lightgbm as lgb\n",
    "\n",
    "df = pd.read_csv('processed_stock_data.csv')"
   ]
  },
  {
   "cell_type": "code",
   "execution_count": 2,
   "id": "25005f72",
   "metadata": {},
   "outputs": [],
   "source": [
    "# Predict closing price 5 days ahead\n",
    "df['Target'] = df['Close'].shift(-5)  # Shift data 5 days forward\n",
    "df = df.dropna()  # Remove rows with missing targets\n",
    "\n",
    "X = df.drop(['Target', 'Date'], axis=1)  # Features\n",
    "y = df['Target']  # Target variable\n",
    "\n",
    "# Split data (80% train, 20% test)\n",
    "X_train, X_test, y_train, y_test = train_test_split(X, y, test_size=0.2, shuffle=False)"
   ]
  },
  {
   "cell_type": "code",
   "execution_count": 5,
   "id": "e9a42930",
   "metadata": {},
   "outputs": [
    {
     "name": "stdout",
     "output_type": "stream",
     "text": [
      "[LightGBM] [Info] Auto-choosing col-wise multi-threading, the overhead of testing was 0.000478 seconds.\n",
      "You can set `force_col_wise=true` to remove the overhead.\n",
      "[LightGBM] [Info] Total Bins 2295\n",
      "[LightGBM] [Info] Number of data points in the train set: 9018, number of used features: 9\n",
      "[LightGBM] [Info] Start training from score 54.522523\n",
      "RMSE: 32.03962227767975\n"
     ]
    }
   ],
   "source": [
    "import lightgbm as lgb\n",
    "from sklearn.metrics import mean_squared_error\n",
    "import numpy as np\n",
    "\n",
    "# Clean feature names\n",
    "X_train.columns = X_train.columns.str.replace(r'[^A-Za-z0-9_]', '_', regex=True)\n",
    "X_test.columns = X_test.columns.str.replace(r'[^A-Za-z0-9_]', '_', regex=True)\n",
    "\n",
    "# Train the model\n",
    "model = lgb.LGBMRegressor()\n",
    "model.fit(X_train, y_train)\n",
    "\n",
    "# Predict and evaluate\n",
    "predictions = model.predict(X_test)\n",
    "rmse = np.sqrt(mean_squared_error(y_test, predictions))  # Compute RMSE manually\n",
    "print(f'RMSE: {rmse}')\n"
   ]
  },
  {
   "cell_type": "code",
   "execution_count": 6,
   "id": "487feafb",
   "metadata": {},
   "outputs": [],
   "source": [
    "pd.DataFrame({'Predicted_Close': predictions}).to_csv('predictions.csv', index=False)"
   ]
  },
  {
   "cell_type": "code",
   "execution_count": null,
   "id": "6d6e895f",
   "metadata": {},
   "outputs": [],
   "source": []
  }
 ],
 "metadata": {
  "kernelspec": {
   "display_name": "Python 3 (ipykernel)",
   "language": "python",
   "name": "python3"
  },
  "language_info": {
   "codemirror_mode": {
    "name": "ipython",
    "version": 3
   },
   "file_extension": ".py",
   "mimetype": "text/x-python",
   "name": "python",
   "nbconvert_exporter": "python",
   "pygments_lexer": "ipython3",
   "version": "3.11.3"
  }
 },
 "nbformat": 4,
 "nbformat_minor": 5
}
